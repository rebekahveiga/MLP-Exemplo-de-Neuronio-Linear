{
  "metadata": {
    "kernelspec": {
      "language": "python",
      "display_name": "Python 3",
      "name": "python3"
    },
    "language_info": {
      "name": "python",
      "version": "3.7.10",
      "mimetype": "text/x-python",
      "codemirror_mode": {
        "name": "ipython",
        "version": 3
      },
      "pygments_lexer": "ipython3",
      "nbconvert_exporter": "python",
      "file_extension": ".py"
    },
    "colab": {
      "name": "digitosmlp.ipynb",
      "provenance": [],
      "include_colab_link": true
    }
  },
  "nbformat_minor": 0,
  "nbformat": 4,
  "cells": [
    {
      "cell_type": "markdown",
      "metadata": {
        "id": "view-in-github",
        "colab_type": "text"
      },
      "source": [
        "<a href=\"https://colab.research.google.com/github/rebekahveiga/MLP-Exemplo-de-Neuronio-Linear/blob/main/digitosmlp.ipynb\" target=\"_parent\"><img src=\"https://colab.research.google.com/assets/colab-badge.svg\" alt=\"Open In Colab\"/></a>"
      ]
    },
    {
      "cell_type": "code",
      "source": [
        "!pip install tflearn\n",
        "import numpy as np\n",
        "import tensorflow as tf\n",
        "import tflearn\n",
        "import tflearn.datasets.mnist as mnist\n",
        "\n",
        "# MNIST\n",
        "trainX, trainY, testX, testY = mnist.load_data(one_hot=True)\n",
        "\n",
        "\n",
        "# Input Layer\n",
        "net = tflearn.input_data([None, 784])\n",
        "\n",
        "# Hidden Layer\n",
        "net = tflearn.fully_connected(net, 128, activation='reLU')\n",
        "\n",
        "# Output Layer\n",
        "net = tflearn.fully_connected(net, 10, activation='softmax')\n",
        "net = tflearn.regression(net,optimizer='sgd',learning_rate=0.1,loss='mean_square')\n",
        "\n",
        "# build the model\n",
        "model = tflearn.DNN(net)\n",
        "\n",
        "# Training\n",
        "model.fit(trainX, trainY,validation_set=0.1,show_metric=True, batch_size=100, n_epoch=20)\n",
        "\n",
        "# Testing\n",
        "predictions = np.array(model.predict(testX)).argmax(axis=1)\n",
        "actual = testY.argmax(axis=1)\n",
        "test_accuracy = np.mean(predictions == actual, axis=0)\n",
        "print(\"Test accuracy: \", test_accuracy)\n",
        "\n",
        "# Additional libraries\n",
        "import matplotlib.pyplot as plt # for plots\n",
        "%matplotlib inline\n",
        "\n"
      ],
      "metadata": {
        "_uuid": "fae2e55b-9767-4795-8a1c-e63baa043e65",
        "_cell_guid": "3d497243-7a6d-434a-bb91-57805d5d870c",
        "jupyter": {
          "outputs_hidden": false
        },
        "trusted": true,
        "colab": {
          "base_uri": "https://localhost:8080/"
        },
        "id": "Hfq90op7N7Kf",
        "outputId": "26c2325d-f304-4103-fc84-494270483c21"
      },
      "execution_count": null,
      "outputs": [
        {
          "output_type": "stream",
          "name": "stdout",
          "text": [
            "Training Step: 9899  | total loss: \u001b[1m\u001b[32m0.01519\u001b[0m\u001b[0m | time: 3.702s\n",
            "| SGD | epoch: 020 | loss: 0.01519 - acc: 0.8971 -- iter: 49400/49500\n",
            "Training Step: 9900  | total loss: \u001b[1m\u001b[32m0.01556\u001b[0m\u001b[0m | time: 4.734s\n",
            "| SGD | epoch: 020 | loss: 0.01556 - acc: 0.8944 | val_loss: 0.01557 - val_acc: 0.9007 -- iter: 49500/49500\n",
            "--\n",
            "Test accuracy:  0.9097\n"
          ]
        }
      ]
    },
    {
      "cell_type": "code",
      "source": [
        "#funcoes para visualizacao\n",
        "def display_train(i):\n",
        "    img = trainX[i]\n",
        "    actual = trainY.argmax(axis=1)\n",
        "    plt.title('Example Treinamento %d Label: %d' % (i,actual[i]))\n",
        "    plt.imshow(img.reshape((28, 28)), cmap=plt.cm.gray_r)\n",
        "    plt.show()\n",
        "def display_test(i):\n",
        "    img = testX[i]\n",
        "    #plt.title('Example Teste %d. Label: %d' % (i, testY[i]))\n",
        "    actual = testY.argmax(axis=1)\n",
        "    plt.title('Example Treinamento %d Label: %d' % (i,actual[i]))\n",
        "    #plt.title('Example Teste %d. Label: %d' % (i, testY[i]))\n",
        "    plt.imshow(img.reshape((28, 28)), cmap=plt.cm.gray_r)\n",
        "    plt.show()\n",
        "def display_pred(i):\n",
        "    img = testX[i]\n",
        "    actual = testY.argmax(axis=1)\n",
        "    #plt.title('Example Teste %d. Label: %d' % (i, testY[i]))\n",
        "    #actual = predictions.argmax(axis=1)\n",
        "    plt.title('Predição da %d Amostra: Rótulo: %d Predição: %d' % (i,actual[i],predictions[i]))\n",
        "    #plt.title('Example Teste %d. Label: %d' % (i, testY[i]))\n",
        "    plt.imshow(img.reshape((28, 28)), cmap=plt.cm.gray_r)\n",
        "    plt.show()\n",
        "\n",
        "# Visualizar a previsão da amostra i:\n",
        "display_pred(812)\n"
      ],
      "metadata": {
        "trusted": true,
        "colab": {
          "base_uri": "https://localhost:8080/",
          "height": 281
        },
        "id": "x7pDTgEUN7Ki",
        "outputId": "e17af618-7fd3-4f9b-b162-64e0bbb7808c"
      },
      "execution_count": null,
      "outputs": [
        {
          "output_type": "display_data",
          "data": {
            "text/plain": [
              "<Figure size 432x288 with 1 Axes>"
            ],
            "image/png": "[encoded data removed]"
          },
          "metadata": {
            "needs_background": "light"
          }
        }
      ]
    }
  ]
}